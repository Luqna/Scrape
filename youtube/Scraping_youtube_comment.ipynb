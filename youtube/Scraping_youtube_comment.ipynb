{
 "cells": [
  {
   "cell_type": "code",
   "execution_count": 14,
   "id": "2f367dc8-3b80-4618-8d2b-5e188d2bb445",
   "metadata": {},
   "outputs": [
    {
     "name": "stdout",
     "output_type": "stream",
     "text": [
      "Requirement already satisfied: selenium in c:\\users\\luqna aziziyah\\anaconda3\\lib\\site-packages (4.8.2)\n",
      "Requirement already satisfied: certifi>=2021.10.8 in c:\\users\\luqna aziziyah\\anaconda3\\lib\\site-packages (from selenium) (2023.11.17)\n",
      "Requirement already satisfied: urllib3[socks]~=1.26 in c:\\users\\luqna aziziyah\\anaconda3\\lib\\site-packages (from selenium) (1.26.11)\n",
      "Requirement already satisfied: trio-websocket~=0.9 in c:\\users\\luqna aziziyah\\anaconda3\\lib\\site-packages (from selenium) (0.9.2)\n",
      "Requirement already satisfied: trio~=0.17 in c:\\users\\luqna aziziyah\\anaconda3\\lib\\site-packages (from selenium) (0.22.0)\n",
      "Requirement already satisfied: attrs>=19.2.0 in c:\\users\\luqna aziziyah\\anaconda3\\lib\\site-packages (from trio~=0.17->selenium) (21.4.0)\n",
      "Requirement already satisfied: cffi>=1.14 in c:\\users\\luqna aziziyah\\anaconda3\\lib\\site-packages (from trio~=0.17->selenium) (1.15.1)\n",
      "Requirement already satisfied: async-generator>=1.9 in c:\\users\\luqna aziziyah\\anaconda3\\lib\\site-packages (from trio~=0.17->selenium) (1.10)\n",
      "Requirement already satisfied: sortedcontainers in c:\\users\\luqna aziziyah\\anaconda3\\lib\\site-packages (from trio~=0.17->selenium) (2.4.0)\n",
      "Requirement already satisfied: exceptiongroup>=1.0.0rc9 in c:\\users\\luqna aziziyah\\anaconda3\\lib\\site-packages (from trio~=0.17->selenium) (1.1.0)\n",
      "Requirement already satisfied: sniffio in c:\\users\\luqna aziziyah\\anaconda3\\lib\\site-packages (from trio~=0.17->selenium) (1.2.0)\n",
      "Requirement already satisfied: outcome in c:\\users\\luqna aziziyah\\anaconda3\\lib\\site-packages (from trio~=0.17->selenium) (1.2.0)\n",
      "Requirement already satisfied: idna in c:\\users\\luqna aziziyah\\anaconda3\\lib\\site-packages (from trio~=0.17->selenium) (3.3)\n",
      "Requirement already satisfied: wsproto>=0.14 in c:\\users\\luqna aziziyah\\anaconda3\\lib\\site-packages (from trio-websocket~=0.9->selenium) (1.2.0)\n",
      "Requirement already satisfied: PySocks!=1.5.7,<2.0,>=1.5.6 in c:\\users\\luqna aziziyah\\anaconda3\\lib\\site-packages (from urllib3[socks]~=1.26->selenium) (1.7.1)\n",
      "Requirement already satisfied: pycparser in c:\\users\\luqna aziziyah\\anaconda3\\lib\\site-packages (from cffi>=1.14->trio~=0.17->selenium) (2.21)\n",
      "Requirement already satisfied: h11<1,>=0.9.0 in c:\\users\\luqna aziziyah\\anaconda3\\lib\\site-packages (from wsproto>=0.14->trio-websocket~=0.9->selenium) (0.14.0)\n"
     ]
    }
   ],
   "source": [
    "! pip install selenium"
   ]
  },
  {
   "cell_type": "code",
   "execution_count": 15,
   "id": "3b5a0e80-e049-4b4e-b7c0-c9837c5db864",
   "metadata": {},
   "outputs": [
    {
     "name": "stdout",
     "output_type": "stream",
     "text": [
      "Requirement already satisfied: beautifulsoup4 in c:\\users\\luqna aziziyah\\anaconda3\\lib\\site-packages (4.11.1)\n",
      "Requirement already satisfied: soupsieve>1.2 in c:\\users\\luqna aziziyah\\anaconda3\\lib\\site-packages (from beautifulsoup4) (2.3.1)\n"
     ]
    }
   ],
   "source": [
    "! pip install beautifulsoup4"
   ]
  },
  {
   "cell_type": "code",
   "execution_count": 13,
   "id": "c4b0dbaf-37f0-4927-93c1-4507a8a00d58",
   "metadata": {},
   "outputs": [
    {
     "name": "stderr",
     "output_type": "stream",
     "text": [
      "C:\\Users\\Luqna Aziziyah\\AppData\\Local\\Temp\\ipykernel_22280\\3183451505.py:9: DeprecationWarning: executable_path has been deprecated, please pass in a Service object\n",
      "  driver = webdriver.Chrome(driver_path)\n"
     ]
    },
    {
     "name": "stdout",
     "output_type": "stream",
     "text": [
      "Komentar telah disimpan ke dalam file comments_debat_capres2024.csv\n"
     ]
    }
   ],
   "source": [
    "from bs4 import BeautifulSoup\n",
    "from selenium import webdriver\n",
    "import time\n",
    "import csv\n",
    "\n",
    "def scrape_and_save_comments(video_url, output_file):\n",
    "    # Inisialisasi WebDriver\n",
    "    driver_path = 'C:\\Program Files (x86)\\chromedriver.exe'\n",
    "    driver = webdriver.Chrome(driver_path)\n",
    "\n",
    "    # Mengakses URL\n",
    "    driver.get(video_url)\n",
    "\n",
    "    # Scroll ke bawah beberapa kali\n",
    "    for i in range(0, 6):\n",
    "        time.sleep(3)\n",
    "        driver.execute_script(\"window.scrollTo(0, 10000);\")\n",
    "\n",
    "    # Ambil HTML halaman web saat ini\n",
    "    page_html = driver.page_source\n",
    "\n",
    "    # Buat objek BeautifulSoup\n",
    "    soup = BeautifulSoup(page_html, 'html.parser')\n",
    "\n",
    "    # Cari elemen yang berisi komentar\n",
    "    comment_elements = soup.find_all('yt-formatted-string', {'class': 'style-scope ytd-comment-renderer'})\n",
    "\n",
    "    # Ekstrak teks komentar\n",
    "    comments = [comment.text for comment in comment_elements]\n",
    "\n",
    "    # Menutup browser\n",
    "    driver.quit()\n",
    "\n",
    "    # Simpan komentar ke dalam file CSV\n",
    "    with open(output_file, 'w', newline='', encoding='utf-8') as file:\n",
    "        writer = csv.writer(file)\n",
    "        writer.writerow(['komen_youtube_debat_2024'])\n",
    "        writer.writerows(zip(comments))\n",
    "\n",
    "    print(\"Komentar telah disimpan ke dalam file\", output_file)\n",
    "\n",
    "# URL target\n",
    "video_url = \"https://www.youtube.com/watch?v=3_NZRBahmb0\"\n",
    "\n",
    "# Nama file output\n",
    "output_file = 'comments_debat_capres2024.csv'\n",
    "\n",
    "# Panggil fungsi scrape_and_save_comments untuk melakukan scraping dan penyimpanan komentar\n",
    "scrape_and_save_comments(video_url, output_file)\n"
   ]
  },
  {
   "cell_type": "code",
   "execution_count": 16,
   "id": "d25a6576-eda0-4dd8-a47c-ac2bf70a4454",
   "metadata": {},
   "outputs": [
    {
     "data": {
      "text/html": [
       "<div>\n",
       "<style scoped>\n",
       "    .dataframe tbody tr th:only-of-type {\n",
       "        vertical-align: middle;\n",
       "    }\n",
       "\n",
       "    .dataframe tbody tr th {\n",
       "        vertical-align: top;\n",
       "    }\n",
       "\n",
       "    .dataframe thead th {\n",
       "        text-align: right;\n",
       "    }\n",
       "</style>\n",
       "<table border=\"1\" class=\"dataframe\">\n",
       "  <thead>\n",
       "    <tr style=\"text-align: right;\">\n",
       "      <th></th>\n",
       "      <th>komen_youtube_debat_2024</th>\n",
       "    </tr>\n",
       "  </thead>\n",
       "  <tbody>\n",
       "    <tr>\n",
       "      <th>0</th>\n",
       "      <td>SkinnyIndonesian24 - Andovi da Lopez &amp; Jovial ...</td>\n",
       "    </tr>\n",
       "    <tr>\n",
       "      <th>1</th>\n",
       "      <td>Tradisi yang sangat luar biasa 5 tahun sekali ...</td>\n",
       "    </tr>\n",
       "    <tr>\n",
       "      <th>2</th>\n",
       "      <td>Ini bukan konten biasa. INI HARUS JADI TRADISI</td>\n",
       "    </tr>\n",
       "    <tr>\n",
       "      <th>3</th>\n",
       "      <td>Ini contoh generasi2 milenial... cerdas , krea...</td>\n",
       "    </tr>\n",
       "    <tr>\n",
       "      <th>4</th>\n",
       "      <td>Ini baru karya anak bangsa, kritis sekali tapi...</td>\n",
       "    </tr>\n",
       "    <tr>\n",
       "      <th>...</th>\n",
       "      <td>...</td>\n",
       "    </tr>\n",
       "    <tr>\n",
       "      <th>95</th>\n",
       "      <td>Damn so good bruhh  \\nIndonesian Raya</td>\n",
       "    </tr>\n",
       "    <tr>\n",
       "      <th>96</th>\n",
       "      <td>saking kerennya aku ulang ulang nontonnya ampe...</td>\n",
       "    </tr>\n",
       "    <tr>\n",
       "      <th>97</th>\n",
       "      <td>INI BENAR-BENAR EPIC, KEREN PARAH!!</td>\n",
       "    </tr>\n",
       "    <tr>\n",
       "      <th>98</th>\n",
       "      <td>KEREN!! MENYALA ABANGKUH  , Vidio debat tapi t...</td>\n",
       "    </tr>\n",
       "    <tr>\n",
       "      <th>99</th>\n",
       "      <td>keren bang serius.. lanjutkan karya karya spt ...</td>\n",
       "    </tr>\n",
       "  </tbody>\n",
       "</table>\n",
       "<p>100 rows × 1 columns</p>\n",
       "</div>"
      ],
      "text/plain": [
       "                             komen_youtube_debat_2024\n",
       "0   SkinnyIndonesian24 - Andovi da Lopez & Jovial ...\n",
       "1   Tradisi yang sangat luar biasa 5 tahun sekali ...\n",
       "2      Ini bukan konten biasa. INI HARUS JADI TRADISI\n",
       "3   Ini contoh generasi2 milenial... cerdas , krea...\n",
       "4   Ini baru karya anak bangsa, kritis sekali tapi...\n",
       "..                                                ...\n",
       "95             Damn so good bruhh  \\nIndonesian Raya \n",
       "96  saking kerennya aku ulang ulang nontonnya ampe...\n",
       "97                INI BENAR-BENAR EPIC, KEREN PARAH!!\n",
       "98  KEREN!! MENYALA ABANGKUH  , Vidio debat tapi t...\n",
       "99  keren bang serius.. lanjutkan karya karya spt ...\n",
       "\n",
       "[100 rows x 1 columns]"
      ]
     },
     "execution_count": 16,
     "metadata": {},
     "output_type": "execute_result"
    }
   ],
   "source": [
    "import pandas as pd\n",
    "\n",
    "df = pd.read_csv('comments_debat_capres2024.csv')\n",
    "df"
   ]
  },
  {
   "cell_type": "code",
   "execution_count": null,
   "id": "d23aac75-7217-4399-8afe-580b06e404a3",
   "metadata": {},
   "outputs": [],
   "source": []
  }
 ],
 "metadata": {
  "kernelspec": {
   "display_name": "Python 3 (ipykernel)",
   "language": "python",
   "name": "python3"
  },
  "language_info": {
   "codemirror_mode": {
    "name": "ipython",
    "version": 3
   },
   "file_extension": ".py",
   "mimetype": "text/x-python",
   "name": "python",
   "nbconvert_exporter": "python",
   "pygments_lexer": "ipython3",
   "version": "3.9.13"
  }
 },
 "nbformat": 4,
 "nbformat_minor": 5
}
